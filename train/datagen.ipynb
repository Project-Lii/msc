{
 "cells": [
  {
   "cell_type": "code",
   "execution_count": null,
   "metadata": {
    "collapsed": true
   },
   "outputs": [],
   "source": [
    "import os\n",
    "import numpy as np\n",
    "\n",
    "def load_img(img_dir, img_list):\n",
    "    images = []\n",
    "    for i, image_name in enumerate(img_list):\n",
    "        if (image_name.split('.')[1] == 'npy'):\n",
    "            image = np.load(img_dir + image_name)\n",
    "\n",
    "            images.append(image)\n",
    "    images = np.array(images)\n",
    "\n",
    "    return (images)\n",
    "\n",
    "\n",
    "def imageLoader(img_dir, img_list, mask_dir, mask_list, batch_size):\n",
    "    L = len(img_list)\n",
    "\n",
    "    # keras needs the generator infinite, so we will use while true\n",
    "    while True:\n",
    "\n",
    "        batch_start = 0\n",
    "        batch_end = batch_size\n",
    "\n",
    "        while batch_start < L:\n",
    "            limit = min(batch_end, L)\n",
    "\n",
    "            X = load_img(img_dir, img_list[batch_start:limit])\n",
    "            Y = load_img(mask_dir, mask_list[batch_start:limit])\n",
    "\n",
    "            yield (X, Y)  # a tuple with two numpy arrays with batch_size samples\n",
    "\n",
    "            batch_start += batch_size\n",
    "            batch_end += batch_size"
   ]
  },
  {
   "cell_type": "code",
   "execution_count": null,
   "outputs": [],
   "source": [
    "# Test the generator\n",
    "\n",
    "from matplotlib import pyplot as plt\n",
    "import random\n",
    "import os\n",
    "import yaml\n",
    "yfile = open(\"../settings2.yaml\")\n",
    "hp = yaml.load(yfile,Loader=yaml.FullLoader)\n",
    "\n",
    "SplitDataPath = hp.get(\"BraTS2020\").get(\"SplitDataPath\")\n",
    "train_img_dir = os.path.join(SplitDataPath,\"train\",\"images\",\"\")\n",
    "train_mask_dir = os.path.join(SplitDataPath,\"train\",\"masks\",\"\")\n",
    "train_img_list = os.listdir(train_img_dir)\n",
    "train_mask_list = os.listdir(train_mask_dir)\n",
    "\n",
    "batch_size = 2\n",
    "\n",
    "train_img_datagen = imageLoader(train_img_dir, train_img_list,\n",
    "                                train_mask_dir, train_mask_list, batch_size)\n",
    "\n",
    "# Verify generator.... In python 3 next() is renamed as __next__()\n",
    "img, msk = train_img_datagen.__next__()\n",
    "\n",
    "img_num = random.randint(0, img.shape[0] - 1)\n",
    "test_img = img[img_num]\n",
    "test_mask = msk[img_num]\n",
    "test_mask = np.argmax(test_mask, axis=3)\n",
    "\n",
    "n_slice = random.randint(0, test_mask.shape[2])\n",
    "plt.figure(figsize=(12, 8))\n",
    "\n",
    "plt.subplot(221)\n",
    "plt.imshow(test_img[:, :, n_slice, 0], cmap='gray')\n",
    "plt.title('Image flair')\n",
    "plt.subplot(222)\n",
    "plt.imshow(test_img[:, :, n_slice, 1], cmap='gray')\n",
    "plt.title('Image t1ce')\n",
    "plt.subplot(223)\n",
    "plt.imshow(test_img[:, :, n_slice, 2], cmap='gray')\n",
    "plt.title('Image t2')\n",
    "plt.subplot(224)\n",
    "plt.imshow(test_mask[:, :, n_slice])\n",
    "plt.title('Mask')\n",
    "plt.show()"
   ],
   "metadata": {
    "collapsed": false,
    "pycharm": {
     "name": "#%%\n"
    }
   }
  }
 ],
 "metadata": {
  "kernelspec": {
   "display_name": "Python 3",
   "language": "python",
   "name": "python3"
  },
  "language_info": {
   "codemirror_mode": {
    "name": "ipython",
    "version": 2
   },
   "file_extension": ".py",
   "mimetype": "text/x-python",
   "name": "python",
   "nbconvert_exporter": "python",
   "pygments_lexer": "ipython2",
   "version": "2.7.6"
  }
 },
 "nbformat": 4,
 "nbformat_minor": 0
}